{
 "cells": [
  {
   "cell_type": "markdown",
   "metadata": {
    "nbgrader": {
     "grade": false,
     "locked": true,
     "solution": false
    }
   },
   "source": [
    "# Linear Regression - Least Squares  \n",
    "\n",
    "-------------  \n",
    "\n",
    "_Author: Khal Makhoul, W.P.G.Peterson_  \n",
    "\n",
    "## Project Guide\n",
    "----------------  \n",
    "- [Project Overview](#overview)\n",
    "- [Introduction and Review](#intro)\n",
    "- [Data Exploration](#data)  \n",
    "- [Coding Linear Regression](#code)\n",
    "\n",
    "<a id = \"overview\"></a>\n",
    "## Project Overview\n",
    "----------\n",
    "#### EXPECTED TIME 2 HRS\n",
    "\n",
    "This assignment will test your ability to code your own version of least squares regression in `Python`. After a brief review of some of the content from the lecture you will be asked to create a number of functions that will eventually be able to read in raw data to `Pandas` and perform a least squares regression on a subset of that data.  \n",
    "\n",
    "This will include:  \n",
    "- Calculating least squares weights\n",
    "- reading data on dist to return `Pandas` DataFrame  \n",
    "- select data by column  \n",
    "- implement column cutoffs  \n",
    "\n",
    "** Motivation**: Least squares regression offer a way to build a closed-form and interpretable model.  \n",
    "\n",
    "**Objectives**: This assignment will:\n",
    "- Test `Python` and `Pandas` competency\n",
    "- Ensure understanding of the mathematical foundations behind least squares regression  \n",
    "\n",
    "**Problem**: Using housing data, we will attempt to predict house price using living area with a regression model.  \n",
    "\n",
    "**Data**: Our data today comes from [Kaggle's House Prices Dataset](https://www.kaggle.com/c/house-prices-advanced-regression-techniques/data).  \n",
    "\n",
    "See above link for Description of data from `Kaggle`.  \n",
    "\n",
    "<a id = \"intro\"></a>\n",
    "### Introduction and Review\n",
    "\n",
    "As long as a few basic assumptions are fulfilled, linear regression using least squares is solvable exactly, without requiring approximation. \n",
    "\n",
    "This means that the equations presented in the week 1 lectures can be adapted directly to `Python` code, making this good practice both for using `Python` and translating an \"algorithm\" to code.\n",
    "\n",
    "We will use the matrix version of the least squares solution presented in lecture to derive the desired result. As a reminder, this expresses the least squares coefficients $w_{LS}$ as a vector, and calculates that vector as a function of $X$, the matrix of inputs, and $y$, the vector of outputs from the training set:\n",
    "\n",
    "$$w_{LS} = (X^T X)^{−1}X^T y,$$\n",
    "\n",
    "where $w_{LS}$ refers to the vector of weights we are trying to find, $X$ is the matrix of inputs, and $y$ is the output vector. \n",
    "\n",
    "In this equation, $X$ is always defined to have a vector of $1$ values as its first column. In other words, even when there is only one input value for each data point, $X$ takes the form:\n",
    "\n",
    "$$\n",
    "X = \\begin{bmatrix}\n",
    "1 \\  x_{11}  \\\\\n",
    "1 \\  x_{21}  \\\\\n",
    "\\vdots \\ \\vdots \\\\\n",
    "1 \\ x_{n1}\n",
    "\\end{bmatrix} \n",
    "$$\n",
    "\n",
    "For two inputs per data point, $X$ will take this form:\n",
    " \n",
    "$$\n",
    "X = \\begin{bmatrix}\n",
    "1 \\  x_{11} \\  x_{12} \\\\\n",
    "1 \\  x_{21} \\  x_{22} \\\\\n",
    "\\vdots \\ \\vdots \\\\\n",
    "1 \\ x_{n1} \\  x_{n2}\n",
    "\\end{bmatrix} \n",
    "$$\n",
    "\n",
    "\n",
    "\n",
    "\n",
    "Please refer to lecture notes for additional context.  \n",
    "<a id = \"data\"></a>\n",
    "### Data Exploration\n",
    "\n",
    "Before coding an algorithm, we will take a look at our data using `Python`'s `pandas`. For visualizations we'll use `matplotlib`. Familiarity with these modules will serve you well. The following cells include comments to explain the purpose of each step."
   ]
  },
  {
   "cell_type": "code",
   "execution_count": 41,
   "metadata": {
    "nbgrader": {
     "grade": false,
     "locked": true,
     "solution": false
    }
   },
   "outputs": [],
   "source": [
    "### This cell imports the necessary modules and sets a few plotting parameters for display\n",
    "\n",
    "%matplotlib inline\n",
    "import numpy as np\n",
    "import pandas as pd\n",
    "import matplotlib.pyplot as plt\n",
    "plt.rcParams['figure.figsize'] = (20.0, 10.0)"
   ]
  },
  {
   "cell_type": "code",
   "execution_count": 42,
   "metadata": {
    "nbgrader": {
     "grade": false,
     "locked": true,
     "solution": false
    }
   },
   "outputs": [],
   "source": [
    "### Read in the data\n",
    "tr_path = 'data/Assignment 1 - datasets/train.csv'\n",
    "test_path = 'data/Assignment 1 - datasets/test.csv'\n",
    "data = pd.read_csv(tr_path)"
   ]
  },
  {
   "cell_type": "code",
   "execution_count": 43,
   "metadata": {
    "nbgrader": {
     "grade": false,
     "locked": true,
     "solution": false
    }
   },
   "outputs": [
    {
     "data": {
      "text/html": [
       "<div>\n",
       "<style scoped>\n",
       "    .dataframe tbody tr th:only-of-type {\n",
       "        vertical-align: middle;\n",
       "    }\n",
       "\n",
       "    .dataframe tbody tr th {\n",
       "        vertical-align: top;\n",
       "    }\n",
       "\n",
       "    .dataframe thead th {\n",
       "        text-align: right;\n",
       "    }\n",
       "</style>\n",
       "<table border=\"1\" class=\"dataframe\">\n",
       "  <thead>\n",
       "    <tr style=\"text-align: right;\">\n",
       "      <th></th>\n",
       "      <th>Id</th>\n",
       "      <th>MSSubClass</th>\n",
       "      <th>MSZoning</th>\n",
       "      <th>LotFrontage</th>\n",
       "      <th>LotArea</th>\n",
       "      <th>Street</th>\n",
       "      <th>Alley</th>\n",
       "      <th>LotShape</th>\n",
       "      <th>LandContour</th>\n",
       "      <th>Utilities</th>\n",
       "      <th>...</th>\n",
       "      <th>PoolArea</th>\n",
       "      <th>PoolQC</th>\n",
       "      <th>Fence</th>\n",
       "      <th>MiscFeature</th>\n",
       "      <th>MiscVal</th>\n",
       "      <th>MoSold</th>\n",
       "      <th>YrSold</th>\n",
       "      <th>SaleType</th>\n",
       "      <th>SaleCondition</th>\n",
       "      <th>SalePrice</th>\n",
       "    </tr>\n",
       "  </thead>\n",
       "  <tbody>\n",
       "    <tr>\n",
       "      <th>0</th>\n",
       "      <td>1</td>\n",
       "      <td>60</td>\n",
       "      <td>RL</td>\n",
       "      <td>65.0</td>\n",
       "      <td>8450</td>\n",
       "      <td>Pave</td>\n",
       "      <td>NaN</td>\n",
       "      <td>Reg</td>\n",
       "      <td>Lvl</td>\n",
       "      <td>AllPub</td>\n",
       "      <td>...</td>\n",
       "      <td>0</td>\n",
       "      <td>NaN</td>\n",
       "      <td>NaN</td>\n",
       "      <td>NaN</td>\n",
       "      <td>0</td>\n",
       "      <td>2</td>\n",
       "      <td>2008</td>\n",
       "      <td>WD</td>\n",
       "      <td>Normal</td>\n",
       "      <td>208500</td>\n",
       "    </tr>\n",
       "    <tr>\n",
       "      <th>1</th>\n",
       "      <td>2</td>\n",
       "      <td>20</td>\n",
       "      <td>RL</td>\n",
       "      <td>80.0</td>\n",
       "      <td>9600</td>\n",
       "      <td>Pave</td>\n",
       "      <td>NaN</td>\n",
       "      <td>Reg</td>\n",
       "      <td>Lvl</td>\n",
       "      <td>AllPub</td>\n",
       "      <td>...</td>\n",
       "      <td>0</td>\n",
       "      <td>NaN</td>\n",
       "      <td>NaN</td>\n",
       "      <td>NaN</td>\n",
       "      <td>0</td>\n",
       "      <td>5</td>\n",
       "      <td>2007</td>\n",
       "      <td>WD</td>\n",
       "      <td>Normal</td>\n",
       "      <td>181500</td>\n",
       "    </tr>\n",
       "    <tr>\n",
       "      <th>2</th>\n",
       "      <td>3</td>\n",
       "      <td>60</td>\n",
       "      <td>RL</td>\n",
       "      <td>68.0</td>\n",
       "      <td>11250</td>\n",
       "      <td>Pave</td>\n",
       "      <td>NaN</td>\n",
       "      <td>IR1</td>\n",
       "      <td>Lvl</td>\n",
       "      <td>AllPub</td>\n",
       "      <td>...</td>\n",
       "      <td>0</td>\n",
       "      <td>NaN</td>\n",
       "      <td>NaN</td>\n",
       "      <td>NaN</td>\n",
       "      <td>0</td>\n",
       "      <td>9</td>\n",
       "      <td>2008</td>\n",
       "      <td>WD</td>\n",
       "      <td>Normal</td>\n",
       "      <td>223500</td>\n",
       "    </tr>\n",
       "    <tr>\n",
       "      <th>3</th>\n",
       "      <td>4</td>\n",
       "      <td>70</td>\n",
       "      <td>RL</td>\n",
       "      <td>60.0</td>\n",
       "      <td>9550</td>\n",
       "      <td>Pave</td>\n",
       "      <td>NaN</td>\n",
       "      <td>IR1</td>\n",
       "      <td>Lvl</td>\n",
       "      <td>AllPub</td>\n",
       "      <td>...</td>\n",
       "      <td>0</td>\n",
       "      <td>NaN</td>\n",
       "      <td>NaN</td>\n",
       "      <td>NaN</td>\n",
       "      <td>0</td>\n",
       "      <td>2</td>\n",
       "      <td>2006</td>\n",
       "      <td>WD</td>\n",
       "      <td>Abnorml</td>\n",
       "      <td>140000</td>\n",
       "    </tr>\n",
       "    <tr>\n",
       "      <th>4</th>\n",
       "      <td>5</td>\n",
       "      <td>60</td>\n",
       "      <td>RL</td>\n",
       "      <td>84.0</td>\n",
       "      <td>14260</td>\n",
       "      <td>Pave</td>\n",
       "      <td>NaN</td>\n",
       "      <td>IR1</td>\n",
       "      <td>Lvl</td>\n",
       "      <td>AllPub</td>\n",
       "      <td>...</td>\n",
       "      <td>0</td>\n",
       "      <td>NaN</td>\n",
       "      <td>NaN</td>\n",
       "      <td>NaN</td>\n",
       "      <td>0</td>\n",
       "      <td>12</td>\n",
       "      <td>2008</td>\n",
       "      <td>WD</td>\n",
       "      <td>Normal</td>\n",
       "      <td>250000</td>\n",
       "    </tr>\n",
       "  </tbody>\n",
       "</table>\n",
       "<p>5 rows × 81 columns</p>\n",
       "</div>"
      ],
      "text/plain": [
       "   Id  MSSubClass MSZoning  LotFrontage  LotArea Street Alley LotShape  \\\n",
       "0   1          60       RL         65.0     8450   Pave   NaN      Reg   \n",
       "1   2          20       RL         80.0     9600   Pave   NaN      Reg   \n",
       "2   3          60       RL         68.0    11250   Pave   NaN      IR1   \n",
       "3   4          70       RL         60.0     9550   Pave   NaN      IR1   \n",
       "4   5          60       RL         84.0    14260   Pave   NaN      IR1   \n",
       "\n",
       "  LandContour Utilities  ... PoolArea PoolQC Fence MiscFeature MiscVal MoSold  \\\n",
       "0         Lvl    AllPub  ...        0    NaN   NaN         NaN       0      2   \n",
       "1         Lvl    AllPub  ...        0    NaN   NaN         NaN       0      5   \n",
       "2         Lvl    AllPub  ...        0    NaN   NaN         NaN       0      9   \n",
       "3         Lvl    AllPub  ...        0    NaN   NaN         NaN       0      2   \n",
       "4         Lvl    AllPub  ...        0    NaN   NaN         NaN       0     12   \n",
       "\n",
       "  YrSold  SaleType  SaleCondition  SalePrice  \n",
       "0   2008        WD         Normal     208500  \n",
       "1   2007        WD         Normal     181500  \n",
       "2   2008        WD         Normal     223500  \n",
       "3   2006        WD        Abnorml     140000  \n",
       "4   2008        WD         Normal     250000  \n",
       "\n",
       "[5 rows x 81 columns]"
      ]
     },
     "execution_count": 43,
     "metadata": {},
     "output_type": "execute_result"
    }
   ],
   "source": [
    "### The .head() function shows the first few lines of data for perspecitve\n",
    "data.head()"
   ]
  },
  {
   "cell_type": "code",
   "execution_count": 44,
   "metadata": {
    "nbgrader": {
     "grade": false,
     "locked": true,
     "solution": false
    },
    "scrolled": true
   },
   "outputs": [
    {
     "data": {
      "text/plain": [
       "81"
      ]
     },
     "execution_count": 44,
     "metadata": {},
     "output_type": "execute_result"
    }
   ],
   "source": [
    "### Lists column names\n",
    "#data.columns\n",
    "data.columns.size"
   ]
  },
  {
   "cell_type": "code",
   "execution_count": 45,
   "metadata": {},
   "outputs": [],
   "source": [
    "### GRADED\n",
    "### How many columns are in `data`?\n",
    "### assign int answer to ans1\n",
    "### YOUR ANSWER BELOW\n",
    "\n",
    "ans1 = data.columns.size"
   ]
  },
  {
   "cell_type": "code",
   "execution_count": 46,
   "metadata": {
    "nbgrader": {
     "grade": true,
     "grade_id": "col",
     "locked": true,
     "points": "3",
     "solution": false
    }
   },
   "outputs": [],
   "source": [
    "#\n",
    "# AUTOGRADER TEST - DO NOT REMOVE\n",
    "#\n"
   ]
  },
  {
   "cell_type": "markdown",
   "metadata": {
    "nbgrader": {
     "grade": false,
     "locked": true,
     "solution": false
    }
   },
   "source": [
    "#### Visualizations"
   ]
  },
  {
   "cell_type": "code",
   "execution_count": 47,
   "metadata": {
    "nbgrader": {
     "grade": false,
     "locked": true,
     "solution": false
    }
   },
   "outputs": [
    {
     "data": {
      "image/png": "[encoded data removed]",
      "text/plain": [
       "<Figure size 1440x720 with 1 Axes>"
      ]
     },
     "metadata": {
      "needs_background": "light"
     },
     "output_type": "display_data"
    }
   ],
   "source": [
    "### We can plot the data as follows\n",
    "### Price v. living area\n",
    "### with matplotlib\n",
    "\n",
    "Y = data['SalePrice']\n",
    "X = data['GrLivArea']\n",
    "\n",
    "plt.scatter(X, Y, marker = \"x\")\n",
    "\n",
    "### Annotations\n",
    "plt.title(\"Sales Price vs. Living Area (excl. basement)\")\n",
    "plt.xlabel(\"GrLivArea\")\n",
    "plt.ylabel(\"SalePrice\");"
   ]
  },
  {
   "cell_type": "code",
   "execution_count": 48,
   "metadata": {
    "nbgrader": {
     "grade": false,
     "locked": true,
     "solution": false
    }
   },
   "outputs": [
    {
     "data": {
      "image/png": "[encoded data removed]",
      "text/plain": [
       "<Figure size 1440x720 with 1 Axes>"
      ]
     },
     "metadata": {
      "needs_background": "light"
     },
     "output_type": "display_data"
    }
   ],
   "source": [
    "### price v. year\n",
    "### Using Pandas\n",
    "\n",
    "data.plot('YearBuilt', 'SalePrice', kind = 'scatter', marker = 'x');"
   ]
  },
  {
   "cell_type": "code",
   "execution_count": 49,
   "metadata": {},
   "outputs": [],
   "source": [
    "### GRADED\n",
    "### Given the above graphs, it appears there is a:  \n",
    "### True) positive correlation between the variables\n",
    "### False) negative correlation between the variables\n",
    "### Assign boolean corresponding to choice to ans1\n",
    "### YOUR ANSWER BELOW\n",
    "\n",
    "ans1 = True"
   ]
  },
  {
   "cell_type": "code",
   "execution_count": 50,
   "metadata": {
    "nbgrader": {
     "grade": true,
     "grade_id": "corr",
     "locked": true,
     "points": "3",
     "solution": false
    }
   },
   "outputs": [],
   "source": [
    "#\n",
    "# AUTOGRADER TEST - DO NOT REMOVE\n",
    "#\n"
   ]
  },
  {
   "cell_type": "markdown",
   "metadata": {
    "nbgrader": {
     "grade": false,
     "locked": true,
     "solution": false
    }
   },
   "source": [
    "### Submission Instructions\n",
    "\n",
    "You will have to ensure that the function names match the examples provided.\n",
    "\n",
    "The code will be automatically graded by a script that will take your code as input and execute it. In order for the grading script to work properly, you must follow the naming conventions in this assignment stub.  \n",
    "\n",
    "<a id = \"code\"></a>\n",
    "### Coding Linear Regression\n",
    "Given the equation above for $w_{LS}$, we know all we need to in order to solve a linear regression. Coding out the steps in `Python`, we will complete the process in several steps.\n",
    "\n",
    "#### Matrix Operations\n",
    "Below is an example of a function that takes the inverse of a matrix. The `numpy` module is used, and all the function does is call the `numpy` function `np.linalg.inv()`. Though simple, this can be used as a template for a few good coding practices:\n",
    "\n",
    "* Name functions and parameters descriptively\n",
    "* Use underscores _ to separate words in variable/function names (snake_case, **NOT** PascalCase or camelCase)\n",
    "* In functions and classes, include a docstring between triple quotes "
   ]
  },
  {
   "cell_type": "code",
   "execution_count": 51,
   "metadata": {},
   "outputs": [
    {
     "name": "stdout",
     "output_type": "stream",
     "text": [
      "test [[-2.   1. ]\n",
      " [ 1.5 -0.5]] \n",
      "\n",
      "From Data:\n",
      " [[-0.2   0.6 ]\n",
      " [ 0.02 -0.01]]\n"
     ]
    }
   ],
   "source": [
    "def get_deternminant(mat):\n",
    "    \"\"\"\n",
    "    Calculate and return the determinant of a matrix\n",
    "    Argument -- a matrix\n",
    "    \"\"\"\n",
    "    #for 2x2 matrix\n",
    "    if len(mat) == 2:\n",
    "        return (mat[0][0] * mat[1][1]) - (mat[0][1] * mat[1][0])\n",
    "\n",
    "    determinant = 0\n",
    "    for c in range(len(mat)):\n",
    "        determinant += ((-1)**c) * mat[0][c] * get_deternminant([row[:c] + row[c + 1:] for row in (mat[:0] + mat[1:])])\n",
    "    return determinant\n",
    "\n",
    "def inverse_of_matrix(mat):\n",
    "    \"\"\"Calculate and return the multiplicative inverse of a matrix.\n",
    "    \n",
    "    Positional argument:\n",
    "        mat -- a matrix to invert\n",
    "    \n",
    "    Example:\n",
    "        sample_matrix = [[1, 2], [3, 4]]\n",
    "        the_inverse = inverse_of_matrix(sample_matrix)\n",
    "        \n",
    "    Notes:\n",
    "        Part of the code used from https://stackoverflow.com/questions/32114054/matrix-inversion-without-numpy. \n",
    "        Changes done to make the routine less complex and to standarize input and output \n",
    "    \"\"\"\n",
    "    if isinstance(mat, pd.DataFrame) :\n",
    "        mat = mat.values\n",
    "      \n",
    "    determinant = get_deternminant(mat)\n",
    "    #for 2x2 matrix:\n",
    "    if len(mat) == 2:\n",
    "        return np.array([[mat[1][1]/determinant, -1*mat[0][1]/determinant],[-1*mat[1][0]/determinant, mat[0][0]/determinant]])\n",
    "\n",
    "    #find matrix of cofactors\n",
    "    cofactors = []\n",
    "    for r in range(len(mat)):\n",
    "        cofactorRow = []\n",
    "        for c in range(len(mat)):\n",
    "            #minor = get_minor(m,r,c)\n",
    "            minor = [row[:c] + row[c + 1:] for row in (mat[:r] + mat[r + 1:])]\n",
    "            cofactorRow.append(((-1)**(r+c)) * get_deternminant(minor))\n",
    "        cofactors.append(cofactorRow)\n",
    "    #cofactors = transpose_matrix(cofactors)\n",
    "    cofactors = [[cofactors[j][i] for j in range(len(cofactors))] for i in range(len(cofactors[0]))]\n",
    "    for r in range(len(cofactors)):\n",
    "        for c in range(len(cofactors)):\n",
    "            cofactors[r][c] = cofactors[r][c]/determinant\n",
    "    return np.array(cofactors)\n",
    "\n",
    "print(\"test\",inverse_of_matrix([[1,2],[3,4]]),\"\\n\")\n",
    "print(\"From Data:\\n\", inverse_of_matrix(data.iloc[:2,:2]))"
   ]
  },
  {
   "cell_type": "code",
   "execution_count": 52,
   "metadata": {
    "nbgrader": {
     "grade": false,
     "locked": false,
     "solution": false
    },
    "scrolled": false
   },
   "outputs": [
    {
     "name": "stdout",
     "output_type": "stream",
     "text": [
      "test [[-2.   1. ]\n",
      " [ 1.5 -0.5]] \n",
      "\n",
      "From Data:\n",
      " [[-0.2   0.6 ]\n",
      " [ 0.02 -0.01]]\n"
     ]
    }
   ],
   "source": [
    "### GRADED\n",
    "### Build a function that takes as input a matrix\n",
    "### return the inverse of that matrix\n",
    "### assign function to \"inverse_of_matrix\"\n",
    "### YOUR ANSWER BELOW\n",
    "\n",
    "def inverse_of_matrix_easy(mat):\n",
    "    \"\"\"Calculate and return the multiplicative inverse of a matrix.\n",
    "    \n",
    "    Positional argument:\n",
    "        mat -- a square matrix to invert\n",
    "    \n",
    "    Example:\n",
    "        sample_matrix = [[1, 2], [3, 4]]\n",
    "        the_inverse = inverse_of_matrix(sample_matrix)\n",
    "        \n",
    "    Requirements:\n",
    "        This function depends on the numpy function `numpy.linalg.inv`. \n",
    "    \"\"\"\n",
    "    matrix_inverse = np.linalg.inv(mat)\n",
    "    return matrix_inverse\n",
    "\n",
    "### Testing function:\n",
    "\n",
    "#print(type([[1,2],[3,4]]))\n",
    "print(\"test\",inverse_of_matrix_easy([[1,2],[3,4]]),\"\\n\")\n",
    "#print(type(inverse_of_matrix([[1,2],[3,4]])))\n",
    "\n",
    "#print(type(data.iloc[:2,:2]))\n",
    "print(\"From Data:\\n\", inverse_of_matrix_easy(data.iloc[:2,:2]))\n",
    "#print(type(inverse_of_matrix(data.iloc[:2,:2])))"
   ]
  },
  {
   "cell_type": "code",
   "execution_count": 53,
   "metadata": {
    "nbgrader": {
     "grade": true,
     "grade_id": "Ex1",
     "locked": true,
     "points": "1",
     "solution": false
    }
   },
   "outputs": [],
   "source": [
    "#\n",
    "# AUTOGRADER TEST - DO NOT REMOVE\n",
    "#\n"
   ]
  },
  {
   "cell_type": "markdown",
   "metadata": {
    "nbgrader": {
     "grade": false,
     "locked": true,
     "solution": false
    }
   },
   "source": [
    "#### Q1: Read Data"
   ]
  },
  {
   "cell_type": "code",
   "execution_count": 54,
   "metadata": {},
   "outputs": [],
   "source": [
    "### GRADED\n",
    "### In order to create any model it is necessary to read in data\n",
    "### Build a function called \"read_to_df\" that takes the file_path of a .csv file.\n",
    "### Use a pandas functions appropriate for .csv files to turn that path into a DataFrame\n",
    "### Use pandas function defaults for reading in file\n",
    "### Return that DataFrame\n",
    "### Grade will be determined by whether or not the returned item is of type \"DataFrame\" and\n",
    "### if the dimensions are correct\n",
    "### YOUR ANSWER BELOW\n",
    "import pandas as pd\n",
    "def read_to_df(file_path):\n",
    "    \"\"\"Read on-disk data and return a dataframe.\"\"\"\n",
    "    data = pd.read_csv(file_path)\n",
    "    \n",
    "    return data"
   ]
  },
  {
   "cell_type": "code",
   "execution_count": 55,
   "metadata": {
    "nbgrader": {
     "grade": true,
     "grade_id": "q1",
     "locked": true,
     "points": "10",
     "solution": false
    }
   },
   "outputs": [],
   "source": [
    "#\n",
    "# AUTOGRADER TEST - DO NOT REMOVE\n",
    "#\n"
   ]
  },
  {
   "cell_type": "markdown",
   "metadata": {
    "nbgrader": {
     "grade": false,
     "locked": true,
     "solution": false
    }
   },
   "source": [
    "#### Q2: Select by Columns"
   ]
  },
  {
   "cell_type": "code",
   "execution_count": 56,
   "metadata": {
    "nbgrader": {
     "grade": false,
     "locked": false,
     "solution": false
    }
   },
   "outputs": [
    {
     "name": "stdout",
     "output_type": "stream",
     "text": [
      "RangeIndex(start=0, stop=1460, step=1)\n",
      "[   0    1    2 ... 1457 1458 1459]\n",
      "   SalePrice  GrLivArea  YearBuilt\n",
      "0     208500       1710       2003\n",
      "1     181500       1262       1976\n",
      "2     223500       1786       2001\n",
      "3     140000       1717       1915\n",
      "4     250000       2198       2000\n",
      "<class 'pandas.core.frame.DataFrame'>\n"
     ]
    }
   ],
   "source": [
    "### GRADED\n",
    "### Build a function called \"select_columns\"\n",
    "### As inputs, take a DataFrame and a *list* of column names.\n",
    "### Return a DataFrame that only has the columns specified in the list of column names\n",
    "### Grading will check type of object, dimensions of object, and column names\n",
    "### YOUR ANSWER BELOW\n",
    "\n",
    "def select_columns(data_frame, column_names):\n",
    "    \"\"\"Return a subset of a data frame by column names.\n",
    "\n",
    "    Positional arguments:\n",
    "        data_frame -- a pandas DataFrame object\n",
    "        column_names -- a list of column names to select\n",
    "\n",
    "    Example:\n",
    "        data = read_to_df('train.csv')\n",
    "        selected_columns = ['SalePrice', 'GrLivArea', 'YearBuilt']\n",
    "        sub_df = select_columns(data, selected_columns)\n",
    "    \"\"\"\n",
    "\n",
    "    return data_frame[column_names]\n",
    "\n",
    "data = read_to_df('data/Assignment 1 - datasets/train.csv')\n",
    "print(data.index)\n",
    "print(data.index.values)\n",
    "selected_columns = ['SalePrice', 'GrLivArea', 'YearBuilt']\n",
    "#print(type(selected_columns))\n",
    "sub_df = select_columns(data, selected_columns)\n",
    "print(sub_df.head())\n",
    "print(type(sub_df))"
   ]
  },
  {
   "cell_type": "code",
   "execution_count": 57,
   "metadata": {
    "nbgrader": {
     "grade": true,
     "grade_id": "q2",
     "locked": true,
     "points": "10",
     "solution": false
    }
   },
   "outputs": [],
   "source": [
    "#\n",
    "# AUTOGRADER TEST - DO NOT REMOVE\n",
    "#\n"
   ]
  },
  {
   "cell_type": "markdown",
   "metadata": {
    "nbgrader": {
     "grade": false,
     "locked": true,
     "solution": false
    }
   },
   "source": [
    "#### Q2a:"
   ]
  },
  {
   "cell_type": "code",
   "execution_count": 58,
   "metadata": {},
   "outputs": [],
   "source": [
    "### GRADED\n",
    "### For a `Pandas` DataFrame named `df`, the names of columns may be accessed by the:\n",
    "### `df.columns` attribute.\n",
    "### The names of the rows may be accessed by the `df.<ans1>` attribute\n",
    "### to ans1 assign a string that when placed after `df.` will return the row names\n",
    "### of a DataFrame\n",
    "### YOUR ANSWER BELOW\n",
    "\n",
    "ans1 = 'index.values'"
   ]
  },
  {
   "cell_type": "code",
   "execution_count": 59,
   "metadata": {
    "nbgrader": {
     "grade": true,
     "grade_id": "q2a",
     "locked": true,
     "points": "3",
     "solution": false
    }
   },
   "outputs": [],
   "source": [
    "#\n",
    "# AUTOGRADER TEST - DO NOT REMOVE\n",
    "#\n"
   ]
  },
  {
   "cell_type": "markdown",
   "metadata": {
    "nbgrader": {
     "grade": false,
     "locked": true,
     "solution": false
    }
   },
   "source": [
    "#### Q3: Subset Data by Value"
   ]
  },
  {
   "cell_type": "code",
   "execution_count": 60,
   "metadata": {},
   "outputs": [
    {
     "name": "stdout",
     "output_type": "stream",
     "text": [
      "1451\n"
     ]
    }
   ],
   "source": [
    "### GRADED\n",
    "### Build a function called \"column_cutoff\"\n",
    "### As inputs, accept a Pandas Dataframe and a list of tuples.\n",
    "### Tuples in format (column_name, min_value, max_value)\n",
    "### Return a DataFrame which excludes rows where the value in specified column exceeds \"max_value\"\n",
    "### or is less than \"min_value\"\n",
    "### ### NB: DO NOT remove rows if the column value is equal to the min/max value\n",
    "### YOUR ANSWER BELOW\n",
    "\n",
    "def column_cutoff(data_frame, cutoffs):\n",
    "    \"\"\"Subset data frame by cutting off limits on column values.\n",
    "    \n",
    "    Positional arguments:\n",
    "        data -- pandas DataFrame object\n",
    "        cutoffs -- list of tuples in the format: \n",
    "        (column_name, min_value, max_value)\n",
    "        \n",
    "    Example:\n",
    "        data_frame = read_into_data_frame('train.csv')\n",
    "        # Remove data points with SalePrice < $50,000\n",
    "        # Remove data points with GrLiveAre > 4,000 square feet\n",
    "        cutoffs = [('SalePrice', 50000, 1e10), ('GrLivArea', 0, 4000)]\n",
    "        selected_data = column_cutoff(data_frame, cutoffs)\n",
    "        \n",
    "    Requirements:\n",
    "        This function does not consider empty cutoffs tuples \n",
    "    \"\"\"\n",
    "    \n",
    "    frames = [data_frame.loc[(data_frame[a] >= b) & (data_frame[a] <= c)] for a, b, c in cutoffs]\n",
    "    df_filtered = frames[0]\n",
    "    for i in range(len(frames) - 1):\n",
    "        df_filtered = pd.merge(df_filtered, frames[i+1], how = 'inner')\n",
    "    \n",
    "    return df_filtered\n",
    "\n",
    "data = read_to_df('data/Assignment 1 - datasets/train.csv')\n",
    "cutoffs = [('GrLivArea', 0, 4000),('SalePrice', 50000, 10000000000)]\n",
    "selected_data = column_cutoff(data, cutoffs)\n",
    "print(len(selected_data))\n"
   ]
  },
  {
   "cell_type": "code",
   "execution_count": 61,
   "metadata": {
    "nbgrader": {
     "grade": true,
     "grade_id": "q3",
     "locked": true,
     "points": "20",
     "solution": false
    }
   },
   "outputs": [],
   "source": [
    "#\n",
    "# AUTOGRADER TEST - DO NOT REMOVE\n",
    "#\n"
   ]
  },
  {
   "cell_type": "markdown",
   "metadata": {
    "nbgrader": {
     "grade": false,
     "locked": true,
     "solution": false
    }
   },
   "source": [
    "Next you'll implement the equation above for $w_{LS}$ using the inverse matrix function.  \n",
    "$$w_{LS} = (X^T X)^{−1}X^T y,$$\n",
    "\n",
    "#### Q4: Least Squares"
   ]
  },
  {
   "cell_type": "code",
   "execution_count": 62,
   "metadata": {},
   "outputs": [],
   "source": [
    "### GRADED\n",
    "### Build a function  called \"least_squares_weights\"\n",
    "### take as input two matricies corresponding to the X inputs and y target\n",
    "### assume the matricies are of the correct dimensions\n",
    "\n",
    "### Step 1: ensure that the number of rows of each matrix is greater than or equal to the number\n",
    "### of columns.\n",
    "### ### If not, transpose the matricies.\n",
    "### In particular, the y input should end up as a n-by-1 matrix, and the x input as a n-by-p matrix\n",
    "\n",
    "### Step 2: *prepend* an n-by-1 column of ones to the input_x matrix\n",
    "\n",
    "### Step 3: Use the above equation to calculate the least squares weights.\n",
    "\n",
    "### NB: `.shape`, `np.matmul`, `np.linalg.inv`, `np.ones` and `np.transpose` will be valuable.\n",
    "### If those above functions are used, the weights should be accessable as below:  \n",
    "### weights = least_squares_weights(train_x, train_y)\n",
    "### weight1 = weights[0][0]; weight2 = weights[1][0];... weight<n+1> = weights[n][0]\n",
    "\n",
    "### YOUR ANSWER BELOW\n",
    "\n",
    "\n",
    "def least_squares_weights(input_x, target_y):\n",
    "    \"\"\" add desc \"\"\"\n",
    "    #Step 1\n",
    "    y_shape = target_y.shape\n",
    "    y = target_y.transpose() if y_shape[1] >= y_shape[0] else target_y\n",
    "    \n",
    "    x_shape = input_x.shape\n",
    "    X = input_x.transpose() if x_shape[1] >= x_shape[0] else input_x\n",
    "       \n",
    "    #Step2\n",
    "    n = len(X)\n",
    "    X = np.hstack((np.ones((n,1), dtype=np.float64), X))\n",
    "    \n",
    "    #Step3\n",
    "    w_LS = np.linalg.inv(X.T.dot(X)).dot(X.T.dot(y))\n",
    "    \n",
    "    return w_LS"
   ]
  },
  {
   "cell_type": "code",
   "execution_count": 63,
   "metadata": {
    "nbgrader": {
     "grade": true,
     "grade_id": "q4",
     "locked": true,
     "points": "20",
     "solution": false
    }
   },
   "outputs": [],
   "source": [
    "#\n",
    "# AUTOGRADER TEST - DO NOT REMOVE\n",
    "#\n"
   ]
  },
  {
   "cell_type": "code",
   "execution_count": 64,
   "metadata": {},
   "outputs": [],
   "source": [
    "### GRADED\n",
    "### Why, in the function  above, is it necessary to prepend a column of ones\n",
    "### 'a') To re-shape the matrix\n",
    "### 'b') To create an intercept term\n",
    "### 'c') It isn't needed, it's just meant to be confusing\n",
    "### 'd') As a way to make sure the weights turn out positive\n",
    "### Assign the character asociated with your choice as a string to ans1\n",
    "### YOUR ANSWER BELOW\n",
    "\n",
    "ans1 = 'b'"
   ]
  },
  {
   "cell_type": "code",
   "execution_count": 65,
   "metadata": {
    "nbgrader": {
     "grade": true,
     "grade_id": "q4a",
     "locked": true,
     "points": "3",
     "solution": false
    }
   },
   "outputs": [],
   "source": [
    "#\n",
    "# AUTOGRADER TEST - DO NOT REMOVE\n",
    "#\n"
   ]
  },
  {
   "cell_type": "markdown",
   "metadata": {
    "nbgrader": {
     "grade": false,
     "locked": true,
     "solution": false
    }
   },
   "source": [
    "#### Testing on Real Data\n",
    "\n",
    "Now that we have code to read the data and perform matrix operations, we can put it all together to perform linear regression on a data set of our choosing.  \n",
    "\n",
    "If your functions above are defined correctly, the following two cells should run without error."
   ]
  },
  {
   "cell_type": "code",
   "execution_count": 66,
   "metadata": {
    "nbgrader": {
     "grade": false,
     "locked": true,
     "solution": false
    }
   },
   "outputs": [
    {
     "name": "stdout",
     "output_type": "stream",
     "text": [
      "[[13477.17033183]\n",
      " [  110.70823063]]\n"
     ]
    }
   ],
   "source": [
    "df = read_to_df(tr_path)\n",
    "df_sub = select_columns(df, ['SalePrice', 'GrLivArea', 'YearBuilt'])\n",
    "\n",
    "cutoffs = [('SalePrice', 50000, 1e10), ('GrLivArea', 0, 4000)]\n",
    "df_sub_cutoff = column_cutoff(df_sub, cutoffs)\n",
    "\n",
    "X = df_sub_cutoff['GrLivArea'].values\n",
    "Y = df_sub_cutoff['SalePrice'].values\n",
    "\n",
    "### reshaping for input into function\n",
    "training_y = np.array([Y])\n",
    "training_x = np.array([X])\n",
    "\n",
    "weights = least_squares_weights(training_x, training_y)\n",
    "print(weights)"
   ]
  },
  {
   "cell_type": "code",
   "execution_count": 67,
   "metadata": {
    "nbgrader": {
     "grade": false,
     "locked": true,
     "solution": false
    },
    "scrolled": false
   },
   "outputs": [
    {
     "data": {
      "image/png": "[encoded data removed]",
      "text/plain": [
       "<Figure size 1440x720 with 1 Axes>"
      ]
     },
     "metadata": {
      "needs_background": "light"
     },
     "output_type": "display_data"
    }
   ],
   "source": [
    "max_X = np.max(X) + 500\n",
    "min_X = np.min(X) - 500\n",
    "\n",
    "### Choose points evenly spaced between min_x in max_x\n",
    "reg_x = np.linspace(min_X, max_X, 1000)\n",
    "\n",
    "### Use the equation for our line to calculate y values\n",
    "reg_y = weights[0][0] + weights[1][0] * reg_x\n",
    "\n",
    "plt.plot(reg_x, reg_y, color='#58b970', label='Regression Line')\n",
    "plt.scatter(X, Y, c='k', label='Data')\n",
    "\n",
    "plt.xlabel('GrLivArea')\n",
    "plt.ylabel('SalePrice')\n",
    "plt.legend()\n",
    "plt.show()"
   ]
  },
  {
   "cell_type": "markdown",
   "metadata": {
    "nbgrader": {
     "grade": false,
     "locked": true,
     "solution": false
    }
   },
   "source": [
    "#### Model Evalutaion Intro\n",
    "Further lessons will discuss model evaluation scores in more detail, quickly, here we will calculate root mean squared errors with our calculated weights"
   ]
  },
  {
   "cell_type": "code",
   "execution_count": 68,
   "metadata": {},
   "outputs": [],
   "source": [
    "### GRADED\n",
    "### True or False\n",
    "### The Root Mean Square Error is in the same units as the data\n",
    "### assign boolean response to ans1\n",
    "### YOUR ANSWER BELOW\n",
    "\n",
    "ans1 = True"
   ]
  },
  {
   "cell_type": "code",
   "execution_count": 69,
   "metadata": {
    "nbgrader": {
     "grade": true,
     "grade_id": "evaluation",
     "locked": true,
     "points": "3",
     "solution": false
    }
   },
   "outputs": [],
   "source": [
    "#\n",
    "# AUTOGRADER TEST - DO NOT REMOVE\n",
    "#\n"
   ]
  },
  {
   "cell_type": "markdown",
   "metadata": {
    "nbgrader": {
     "grade": false,
     "locked": true,
     "solution": false
    }
   },
   "source": [
    "#### Calculating RMSE"
   ]
  },
  {
   "cell_type": "code",
   "execution_count": 70,
   "metadata": {
    "nbgrader": {
     "grade": false,
     "locked": true,
     "solution": false
    }
   },
   "outputs": [
    {
     "name": "stdout",
     "output_type": "stream",
     "text": [
      "53124.5152861251\n"
     ]
    }
   ],
   "source": [
    "rmse = 0\n",
    "\n",
    "b0 = weights[0][0]\n",
    "b1 = weights[1][0]\n",
    "\n",
    "for i in range(len(Y)):\n",
    "    y_pred = b0 + b1 * X[i]\n",
    "    rmse += (Y[i] - y_pred) ** 2\n",
    "rmse = np.sqrt(rmse/len(Y))\n",
    "print(rmse)"
   ]
  },
  {
   "cell_type": "markdown",
   "metadata": {
    "nbgrader": {
     "grade": false,
     "locked": true,
     "solution": false
    }
   },
   "source": [
    "#### Calculating $R^2$"
   ]
  },
  {
   "cell_type": "code",
   "execution_count": 71,
   "metadata": {
    "nbgrader": {
     "grade": false,
     "locked": true,
     "solution": false
    }
   },
   "outputs": [
    {
     "name": "stdout",
     "output_type": "stream",
     "text": [
      "0.5153907952943888\n"
     ]
    }
   ],
   "source": [
    "ss_t = 0\n",
    "ss_r = 0\n",
    "\n",
    "mean_y = np.mean(Y)\n",
    "\n",
    "for i in range(len(Y)):\n",
    "    y_pred = b0 + b1 * X[i]\n",
    "    ss_t += (Y[i] - mean_y) ** 2\n",
    "    ss_r += (Y[i] - y_pred) ** 2\n",
    "r2 = 1 - (ss_r/ss_t)\n",
    "\n",
    "print(r2)"
   ]
  },
  {
   "cell_type": "markdown",
   "metadata": {
    "nbgrader": {
     "grade": false,
     "locked": true,
     "solution": false
    }
   },
   "source": [
    "### sklearn implementation\n",
    "\n",
    "While it is useful to build and program our model from scratch, this course will also introduce how to use conventional methods to fit each model. In particular, we will be using the `scikit-learn` module (also called `sklearn`.)  \n",
    "\n",
    "Check to see how close your answers are!"
   ]
  },
  {
   "cell_type": "code",
   "execution_count": 72,
   "metadata": {
    "nbgrader": {
     "grade": false,
     "locked": true,
     "solution": false
    }
   },
   "outputs": [
    {
     "name": "stdout",
     "output_type": "stream",
     "text": [
      "Intercept: 13477.170331831294\n",
      "Coefficient: [110.70823063]\n"
     ]
    }
   ],
   "source": [
    "from sklearn.linear_model import LinearRegression\n",
    "\n",
    "lr = LinearRegression()\n",
    "\n",
    "### sklearn requires a 2-dimensional X and 1 dimensional y. The below yeilds shapes of:\n",
    "### skl_X = (n,1); skl_Y = (n,)\n",
    "skl_X = df_sub_cutoff[['GrLivArea']]\n",
    "skl_Y = df_sub_cutoff['SalePrice']\n",
    "\n",
    "lr.fit(skl_X,skl_Y)\n",
    "print(\"Intercept:\", lr.intercept_)\n",
    "print(\"Coefficient:\", lr.coef_)"
   ]
  },
  {
   "cell_type": "code",
   "execution_count": null,
   "metadata": {},
   "outputs": [],
   "source": []
  }
 ],
 "metadata": {
  "kernelspec": {
   "display_name": "Python [default]",
   "language": "python",
   "name": "python3"
  },
  "language_info": {
   "codemirror_mode": {
    "name": "ipython",
    "version": 3
   },
   "file_extension": ".py",
   "mimetype": "text/x-python",
   "name": "python",
   "nbconvert_exporter": "python",
   "pygments_lexer": "ipython3",
   "version": "3.5.6"
  }
 },
 "nbformat": 4,
 "nbformat_minor": 2
}
